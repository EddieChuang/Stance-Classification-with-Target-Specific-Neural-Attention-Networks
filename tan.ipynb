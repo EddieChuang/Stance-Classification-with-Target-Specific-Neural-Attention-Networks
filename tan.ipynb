{
 "cells": [
  {
   "cell_type": "markdown",
   "metadata": {},
   "source": [
    "### Load Dataset"
   ]
  },
  {
   "cell_type": "code",
   "execution_count": 1,
   "metadata": {},
   "outputs": [],
   "source": [
    "from utils import *\n",
    "import numpy as np"
   ]
  },
  {
   "cell_type": "code",
   "execution_count": null,
   "metadata": {},
   "outputs": [
    {
     "name": "stderr",
     "output_type": "stream",
     "text": [
      "Building prefix dict from the default dictionary ...\n",
      "Loading model from cache C:\\Users\\chiamin\\AppData\\Local\\Temp\\jieba.cache\n",
      "Loading model cost 0.568 seconds.\n",
      "Prefix dict has been built succesfully.\n"
     ]
    }
   ],
   "source": [
    "train_file = 'data/train.csv'\n",
    "train_df = read_train_data(train_file)\n",
    "sentA, sentB, label = train_df['title1_zh'].values, train_df['title2_zh'].values, train_df['label'].values"
   ]
  },
  {
   "cell_type": "code",
   "execution_count": null,
   "metadata": {
    "scrolled": true
   },
   "outputs": [],
   "source": [
    "train_df.head()"
   ]
  },
  {
   "cell_type": "code",
   "execution_count": null,
   "metadata": {},
   "outputs": [],
   "source": [
    "# print(train_df['label'].value_counts())\n",
    "train_df.hist(bins=10)"
   ]
  },
  {
   "cell_type": "markdown",
   "metadata": {},
   "source": [
    "### Load Word Vector"
   ]
  },
  {
   "cell_type": "code",
   "execution_count": null,
   "metadata": {},
   "outputs": [],
   "source": [
    "wordvec_file = 'wordvector/zhwiki300-word2vec.txt'\n",
    "UNK, PAD = '<UNK>', '<PAD>'\n",
    "wordvector, word2index, vocab = load_wordvector(wordvec_file, UNK, PAD)\n",
    "print('emb_dim: {}'.format(len(wordvector[0])))\n",
    "print('vocab_size: {}'.format(len(vocab)))"
   ]
  },
  {
   "cell_type": "markdown",
   "metadata": {},
   "source": [
    "### Process Training Data"
   ]
  },
  {
   "cell_type": "code",
   "execution_count": null,
   "metadata": {},
   "outputs": [],
   "source": [
    "sentA, sentB = process_unknown(sentA, sentB, set(vocab), UNK)\n",
    "sentA, sentB = word_to_index(sentA, sentB, word2index)\n",
    "seq_lenA = np.array([len(sent) for sent in sentA])\n",
    "seq_lenB = np.array([len(sent) for sent in sentB])"
   ]
  },
  {
   "cell_type": "code",
   "execution_count": null,
   "metadata": {},
   "outputs": [],
   "source": [
    "np.save('data/sentA.npy', sentA)\n",
    "np.save('data/sentB.npy', sentB)\n",
    "np.save('data/seq_lenA.npy', seq_lenA)\n",
    "np.save('data/seq_lenB.npy', seq_lenB)"
   ]
  },
  {
   "cell_type": "markdown",
   "metadata": {},
   "source": [
    "### One-Hot Encode Label"
   ]
  },
  {
   "cell_type": "code",
   "execution_count": null,
   "metadata": {},
   "outputs": [],
   "source": [
    "from sklearn.preprocessing import OneHotEncoder"
   ]
  },
  {
   "cell_type": "code",
   "execution_count": null,
   "metadata": {},
   "outputs": [],
   "source": [
    "onehotencoder = OneHotEncoder(sparse=False)\n",
    "label = onehotencoder.fit_transform(label.reshape((-1, 1)))"
   ]
  },
  {
   "cell_type": "code",
   "execution_count": null,
   "metadata": {},
   "outputs": [],
   "source": [
    "np.save('data/label.npy', label)"
   ]
  },
  {
   "cell_type": "markdown",
   "metadata": {},
   "source": [
    "### Build Graph"
   ]
  },
  {
   "cell_type": "code",
   "execution_count": 3,
   "metadata": {},
   "outputs": [],
   "source": [
    "from tan import TAN\n"
   ]
  },
  {
   "cell_type": "code",
   "execution_count": 10,
   "metadata": {},
   "outputs": [],
   "source": [
    "config = {\n",
    "    'num_class': 3,\n",
    "    'lstm_unit': 200,\n",
    "    'emb_dim': len(wordvector[0]),\n",
    "    'vocab_size': len(vocab),\n",
    "    'learning_rate': 1e-2,\n",
    "    'wordvec': wordvec_file,\n",
    "    'emb_trainable': False\n",
    "}\n",
    "tan = TAN(config, wordvector)\n",
    "tan.build()"
   ]
  },
  {
   "cell_type": "markdown",
   "metadata": {},
   "source": [
    "### Train Model"
   ]
  },
  {
   "cell_type": "code",
   "execution_count": null,
   "metadata": {},
   "outputs": [],
   "source": [
    "sentA, sentB, seq_lenA, seq_lenB, label = \\\n",
    "    np.load('data/sentA.npy'), np.load('data/sentB.npy'), np.load('data/seq_lenA.npy'), np.load('data/seq_lenB.npy'), np.load('data/label.npy')\n",
    "train_data, val_data = train_val_split(sentA, sentA, seq_lenA, seq_lenA, label, train_ratio=.7)"
   ]
  },
  {
   "cell_type": "code",
   "execution_count": null,
   "metadata": {},
   "outputs": [],
   "source": [
    "epoch_size = 3\n",
    "batch_size = 32\n",
    "model_name = 'tan'"
   ]
  },
  {
   "cell_type": "code",
   "execution_count": null,
   "metadata": {},
   "outputs": [],
   "source": [
    "tan.fit(train_data, val_data, epoch_size, batch_size, word2index, model_name)"
   ]
  },
  {
   "cell_type": "markdown",
   "metadata": {},
   "source": [
    "### Test Data"
   ]
  },
  {
   "cell_type": "code",
   "execution_count": null,
   "metadata": {},
   "outputs": [],
   "source": [
    "test_df = read_test_data('data/test.csv')\n",
    "test_id, test_sentA, test_sentB = test_df['id'].values, test_df['title1_zh'].values, test_df['title2_zh'].values\n",
    "\n",
    "test_sentA, test_sentB = process_unknown(test_sentA, test_sentB, set(vocab), UNK)\n",
    "test_sentA, test_sentB = word_to_index(test_sentA, test_sentB, word2index)\n",
    "test_seq_lenA = np.array([len(sent) for sent in test_sentA])\n",
    "test_seq_lenB = np.array([len(sent) for sent in test_sentB])"
   ]
  },
  {
   "cell_type": "code",
   "execution_count": null,
   "metadata": {},
   "outputs": [],
   "source": [
    "np.save('data/test_id.npy', test_id)\n",
    "np.save('data/test_sentA.npy', test_sentA)\n",
    "np.save('data/test_sentB.npy', test_sentB)\n",
    "np.save('data/test_seq_lenA.npy', test_seq_lenA)\n",
    "np.save('data/test_seq_lenB.npy', test_seq_lenB)"
   ]
  },
  {
   "cell_type": "markdown",
   "metadata": {},
   "source": [
    "### Predict"
   ]
  },
  {
   "cell_type": "code",
   "execution_count": null,
   "metadata": {},
   "outputs": [],
   "source": [
    "config = {\n",
    "    'num_class': 3,\n",
    "    'lstm_unit': 200,\n",
    "    'emb_dim': len(wordvector[0]),\n",
    "    'vocab_size': len(vocab),\n",
    "    'learning_rate': 1e-2,\n",
    "    'wordvec': wordvec_file,\n",
    "    'emb_trainable': False\n",
    "}"
   ]
  },
  {
   "cell_type": "code",
   "execution_count": null,
   "metadata": {},
   "outputs": [],
   "source": [
    "tan = TAN(config, wordvector)\n",
    "tan.build()\n",
    "tan.restore('models/{}/{}.ckpt'.format(model_name, model_name))"
   ]
  },
  {
   "cell_type": "code",
   "execution_count": null,
   "metadata": {},
   "outputs": [],
   "source": [
    "test_id, test_sentA, test_sentB, test_seq_lenA, test_seq_lenB = \\\n",
    "    np.load('data/test_id.npy'), np.load('data/test_sentA.npy'), np.load('data/test_sentB.npy'), np.load('data/test_seq_lenA.npy'), np.load('data/test_seq_lenB.npy')\n",
    "test_data = [test_sentA, test_sentB, test_seq_lenA, test_seq_lenB, np.empty(0)]"
   ]
  },
  {
   "cell_type": "code",
   "execution_count": null,
   "metadata": {},
   "outputs": [],
   "source": [
    "prediction = tan.predict(test_data, word2index)"
   ]
  },
  {
   "cell_type": "code",
   "execution_count": null,
   "metadata": {},
   "outputs": [],
   "source": [
    "result_file = 'models/{}/result/result.csv'.format(model_name)\n",
    "prediction_to_csv(test_id, prediction, result_file)"
   ]
  },
  {
   "cell_type": "code",
   "execution_count": null,
   "metadata": {
    "scrolled": true
   },
   "outputs": [],
   "source": []
  }
 ],
 "metadata": {
  "kernelspec": {
   "display_name": "Python 3",
   "language": "python",
   "name": "python3"
  },
  "language_info": {
   "codemirror_mode": {
    "name": "ipython",
    "version": 3
   },
   "file_extension": ".py",
   "mimetype": "text/x-python",
   "name": "python",
   "nbconvert_exporter": "python",
   "pygments_lexer": "ipython3",
   "version": "3.6.6"
  }
 },
 "nbformat": 4,
 "nbformat_minor": 2
}
